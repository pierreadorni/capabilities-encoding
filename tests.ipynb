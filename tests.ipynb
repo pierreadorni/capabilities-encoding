{
 "cells": [
  {
   "cell_type": "code",
   "execution_count": 16,
   "metadata": {},
   "outputs": [],
   "source": [
    "import pickle\n",
    "from val_error_experiment import mean_error_per_index\n",
    "import jax.numpy as jnp\n",
    "import numpy as np\n",
    "from data import load_data\n",
    "import pandas as pd\n",
    "from optimization import compute_poincare_dists\n",
    "import seaborn as sns"
   ]
  },
  {
   "cell_type": "code",
   "execution_count": 5,
   "metadata": {},
   "outputs": [
    {
     "data": {
      "text/html": [
       "<div>\n",
       "<style scoped>\n",
       "    .dataframe tbody tr th:only-of-type {\n",
       "        vertical-align: middle;\n",
       "    }\n",
       "\n",
       "    .dataframe tbody tr th {\n",
       "        vertical-align: top;\n",
       "    }\n",
       "\n",
       "    .dataframe thead th {\n",
       "        text-align: right;\n",
       "    }\n",
       "</style>\n",
       "<table border=\"1\" class=\"dataframe\">\n",
       "  <thead>\n",
       "    <tr style=\"text-align: right;\">\n",
       "      <th></th>\n",
       "      <th>Dyna.-Pla test mIoU</th>\n",
       "      <th>Dyna.-Pla val mIoU</th>\n",
       "      <th>Dyna.-S2 seg val mIoU</th>\n",
       "      <th>Dyna.-S2 seg test mIoU</th>\n",
       "      <th>OSCD f1</th>\n",
       "      <th>Dyna.-S2 CD test SCS</th>\n",
       "      <th>Dyna.-S2 CD val SCS</th>\n",
       "      <th>LEVIR-CD f1</th>\n",
       "      <th>fMoW-S2 top1acc 100%</th>\n",
       "      <th>BEN-S2 mAP</th>\n",
       "      <th>...</th>\n",
       "      <th>DOTA-V1.0 0.5% mAP50</th>\n",
       "      <th>DOTA-V1.0 1% mAP50</th>\n",
       "      <th>DOTA-V1.0 5% mAP50</th>\n",
       "      <th>DOTA-V2.0 mAP</th>\n",
       "      <th>LoveDA mIoU</th>\n",
       "      <th>HRCS2016 mAP</th>\n",
       "      <th>CDD f1</th>\n",
       "      <th>NWPUVHR-10 10% top1acc</th>\n",
       "      <th>DSFIN f1</th>\n",
       "      <th>WHU Aerial mIoU</th>\n",
       "    </tr>\n",
       "  </thead>\n",
       "  <tbody>\n",
       "    <tr>\n",
       "      <th>GeoKR</th>\n",
       "      <td>NaN</td>\n",
       "      <td>NaN</td>\n",
       "      <td>NaN</td>\n",
       "      <td>NaN</td>\n",
       "      <td>NaN</td>\n",
       "      <td>NaN</td>\n",
       "      <td>NaN</td>\n",
       "      <td>NaN</td>\n",
       "      <td>NaN</td>\n",
       "      <td>NaN</td>\n",
       "      <td>...</td>\n",
       "      <td>NaN</td>\n",
       "      <td>NaN</td>\n",
       "      <td>NaN</td>\n",
       "      <td>NaN</td>\n",
       "      <td>NaN</td>\n",
       "      <td>NaN</td>\n",
       "      <td>NaN</td>\n",
       "      <td>NaN</td>\n",
       "      <td>NaN</td>\n",
       "      <td>NaN</td>\n",
       "    </tr>\n",
       "    <tr>\n",
       "      <th>ResNet50 IN</th>\n",
       "      <td>NaN</td>\n",
       "      <td>NaN</td>\n",
       "      <td>NaN</td>\n",
       "      <td>NaN</td>\n",
       "      <td>11.45</td>\n",
       "      <td>NaN</td>\n",
       "      <td>NaN</td>\n",
       "      <td>3.48</td>\n",
       "      <td>NaN</td>\n",
       "      <td>6.16</td>\n",
       "      <td>...</td>\n",
       "      <td>2.4</td>\n",
       "      <td>4.0</td>\n",
       "      <td>3.6</td>\n",
       "      <td>5.05</td>\n",
       "      <td>3.13</td>\n",
       "      <td>0.0</td>\n",
       "      <td>2.02</td>\n",
       "      <td>NaN</td>\n",
       "      <td>27.44</td>\n",
       "      <td>7.09</td>\n",
       "    </tr>\n",
       "    <tr>\n",
       "      <th>MoCo</th>\n",
       "      <td>NaN</td>\n",
       "      <td>NaN</td>\n",
       "      <td>NaN</td>\n",
       "      <td>NaN</td>\n",
       "      <td>NaN</td>\n",
       "      <td>NaN</td>\n",
       "      <td>NaN</td>\n",
       "      <td>NaN</td>\n",
       "      <td>NaN</td>\n",
       "      <td>NaN</td>\n",
       "      <td>...</td>\n",
       "      <td>NaN</td>\n",
       "      <td>NaN</td>\n",
       "      <td>NaN</td>\n",
       "      <td>NaN</td>\n",
       "      <td>NaN</td>\n",
       "      <td>NaN</td>\n",
       "      <td>NaN</td>\n",
       "      <td>NaN</td>\n",
       "      <td>NaN</td>\n",
       "      <td>NaN</td>\n",
       "    </tr>\n",
       "    <tr>\n",
       "      <th>SimCLR</th>\n",
       "      <td>NaN</td>\n",
       "      <td>NaN</td>\n",
       "      <td>NaN</td>\n",
       "      <td>NaN</td>\n",
       "      <td>NaN</td>\n",
       "      <td>NaN</td>\n",
       "      <td>NaN</td>\n",
       "      <td>NaN</td>\n",
       "      <td>NaN</td>\n",
       "      <td>NaN</td>\n",
       "      <td>...</td>\n",
       "      <td>2.2</td>\n",
       "      <td>0.0</td>\n",
       "      <td>0.5</td>\n",
       "      <td>NaN</td>\n",
       "      <td>NaN</td>\n",
       "      <td>NaN</td>\n",
       "      <td>NaN</td>\n",
       "      <td>NaN</td>\n",
       "      <td>NaN</td>\n",
       "      <td>NaN</td>\n",
       "    </tr>\n",
       "    <tr>\n",
       "      <th>BYOL</th>\n",
       "      <td>NaN</td>\n",
       "      <td>NaN</td>\n",
       "      <td>NaN</td>\n",
       "      <td>NaN</td>\n",
       "      <td>NaN</td>\n",
       "      <td>NaN</td>\n",
       "      <td>NaN</td>\n",
       "      <td>NaN</td>\n",
       "      <td>NaN</td>\n",
       "      <td>NaN</td>\n",
       "      <td>...</td>\n",
       "      <td>NaN</td>\n",
       "      <td>NaN</td>\n",
       "      <td>NaN</td>\n",
       "      <td>NaN</td>\n",
       "      <td>NaN</td>\n",
       "      <td>NaN</td>\n",
       "      <td>0.81</td>\n",
       "      <td>NaN</td>\n",
       "      <td>NaN</td>\n",
       "      <td>NaN</td>\n",
       "    </tr>\n",
       "  </tbody>\n",
       "</table>\n",
       "<p>5 rows × 92 columns</p>\n",
       "</div>"
      ],
      "text/plain": [
       "             Dyna.-Pla test mIoU  Dyna.-Pla val mIoU  Dyna.-S2 seg val mIoU  \\\n",
       "GeoKR                        NaN                 NaN                    NaN   \n",
       "ResNet50 IN                  NaN                 NaN                    NaN   \n",
       "MoCo                         NaN                 NaN                    NaN   \n",
       "SimCLR                       NaN                 NaN                    NaN   \n",
       "BYOL                         NaN                 NaN                    NaN   \n",
       "\n",
       "             Dyna.-S2 seg test mIoU  OSCD f1  Dyna.-S2 CD test SCS  \\\n",
       "GeoKR                           NaN      NaN                   NaN   \n",
       "ResNet50 IN                     NaN    11.45                   NaN   \n",
       "MoCo                            NaN      NaN                   NaN   \n",
       "SimCLR                          NaN      NaN                   NaN   \n",
       "BYOL                            NaN      NaN                   NaN   \n",
       "\n",
       "             Dyna.-S2 CD val SCS  LEVIR-CD f1  fMoW-S2 top1acc 100%  \\\n",
       "GeoKR                        NaN          NaN                   NaN   \n",
       "ResNet50 IN                  NaN         3.48                   NaN   \n",
       "MoCo                         NaN          NaN                   NaN   \n",
       "SimCLR                       NaN          NaN                   NaN   \n",
       "BYOL                         NaN          NaN                   NaN   \n",
       "\n",
       "             BEN-S2 mAP  ...  DOTA-V1.0 0.5% mAP50  DOTA-V1.0 1% mAP50  \\\n",
       "GeoKR               NaN  ...                   NaN                 NaN   \n",
       "ResNet50 IN        6.16  ...                   2.4                 4.0   \n",
       "MoCo                NaN  ...                   NaN                 NaN   \n",
       "SimCLR              NaN  ...                   2.2                 0.0   \n",
       "BYOL                NaN  ...                   NaN                 NaN   \n",
       "\n",
       "             DOTA-V1.0 5% mAP50  DOTA-V2.0 mAP  LoveDA mIoU  HRCS2016 mAP  \\\n",
       "GeoKR                       NaN            NaN          NaN           NaN   \n",
       "ResNet50 IN                 3.6           5.05         3.13           0.0   \n",
       "MoCo                        NaN            NaN          NaN           NaN   \n",
       "SimCLR                      0.5            NaN          NaN           NaN   \n",
       "BYOL                        NaN            NaN          NaN           NaN   \n",
       "\n",
       "             CDD f1  NWPUVHR-10 10% top1acc  DSFIN f1  WHU Aerial mIoU  \n",
       "GeoKR           NaN                     NaN       NaN              NaN  \n",
       "ResNet50 IN    2.02                     NaN     27.44             7.09  \n",
       "MoCo            NaN                     NaN       NaN              NaN  \n",
       "SimCLR          NaN                     NaN       NaN              NaN  \n",
       "BYOL           0.81                     NaN       NaN              NaN  \n",
       "\n",
       "[5 rows x 92 columns]"
      ]
     },
     "execution_count": 5,
     "metadata": {},
     "output_type": "execute_result"
    }
   ],
   "source": [
    "data = load_data()\n",
    "data.head()"
   ]
  },
  {
   "cell_type": "code",
   "execution_count": 9,
   "metadata": {},
   "outputs": [],
   "source": [
    "n_points = 100\n",
    "dims = 2"
   ]
  },
  {
   "cell_type": "code",
   "execution_count": 25,
   "metadata": {},
   "outputs": [],
   "source": [
    "coords = jnp.array(\n",
    "    np.random.normal(0, 1, n_points * dims)\n",
    ")  # init random coords\n",
    "\n",
    "# we need to project the random points inside the Poincaré ball (no point x with ||x|| > 1)\n",
    "vec_coords = jnp.reshape(coords, (-1, dims))\n",
    "norms = jnp.linalg.norm(vec_coords, axis=-1)\n",
    "norms = jnp.maximum(norms, 1)\n",
    "vec_coords = vec_coords / norms[:, None] * 0.5\n",
    "coords = vec_coords.flatten()\n"
   ]
  },
  {
   "cell_type": "code",
   "execution_count": 15,
   "metadata": {},
   "outputs": [
    {
     "data": {
      "text/plain": [
       "(50, 50)"
      ]
     },
     "execution_count": 15,
     "metadata": {},
     "output_type": "execute_result"
    }
   ],
   "source": [
    "compute_poincare_dists(coords, 50, dims).shape"
   ]
  },
  {
   "cell_type": "code",
   "execution_count": 26,
   "metadata": {},
   "outputs": [
    {
     "data": {
      "text/plain": [
       "<Axes: >"
      ]
     },
     "execution_count": 26,
     "metadata": {},
     "output_type": "execute_result"
    },
    {
     "data": {
      "image/png": "[encoded data removed]",
      "text/plain": [
       "<Figure size 640x480 with 2 Axes>"
      ]
     },
     "metadata": {},
     "output_type": "display_data"
    }
   ],
   "source": [
    "sns.heatmap(compute_poincare_dists(coords, 50, dims))"
   ]
  },
  {
   "cell_type": "code",
   "execution_count": 27,
   "metadata": {},
   "outputs": [
    {
     "data": {
      "text/plain": [
       "Array([0.3875637 , 0.5       , 0.5       , 0.5       , 0.5       ,\n",
       "       0.39111136, 0.5       , 0.5       , 0.5       , 0.21309767,\n",
       "       0.5       , 0.45914561, 0.5       , 0.5       , 0.5       ,\n",
       "       0.15049234, 0.5       , 0.36727223, 0.48233252, 0.5       ,\n",
       "       0.3664666 , 0.34568768, 0.5       , 0.5       , 0.5       ,\n",
       "       0.2674459 , 0.5       , 0.5       , 0.23785577, 0.42811034,\n",
       "       0.5       , 0.5       , 0.48629712, 0.17871137, 0.45554109,\n",
       "       0.5       , 0.36145713, 0.13224201, 0.28417756, 0.5       ,\n",
       "       0.5       , 0.5       , 0.5       , 0.13666319, 0.5       ,\n",
       "       0.25924971, 0.2963667 , 0.5       , 0.11341625, 0.5       ,\n",
       "       0.5       , 0.5       , 0.5       , 0.5       , 0.35038282,\n",
       "       0.5       , 0.5       , 0.36628469, 0.5       , 0.5       ,\n",
       "       0.05729225, 0.5       , 0.11362804, 0.5       , 0.29415539,\n",
       "       0.5       , 0.5       , 0.5       , 0.42901274, 0.5       ,\n",
       "       0.5       , 0.25269013, 0.5       , 0.5       , 0.5       ,\n",
       "       0.5       , 0.5       , 0.14325142, 0.5       , 0.5       ,\n",
       "       0.5       , 0.5       , 0.5       , 0.5       , 0.18797244,\n",
       "       0.5       , 0.5       , 0.5       , 0.17665767, 0.5       ,\n",
       "       0.5       , 0.31858252, 0.5       , 0.32224813, 0.45206718,\n",
       "       0.5       , 0.36010272, 0.5       , 0.5       , 0.5       ],      dtype=float64)"
      ]
     },
     "execution_count": 27,
     "metadata": {},
     "output_type": "execute_result"
    }
   ],
   "source": [
    "# print norms of the points\n",
    "norms = jnp.linalg.norm(vec_coords, axis=-1)\n",
    "norms"
   ]
  },
  {
   "cell_type": "code",
   "execution_count": null,
   "metadata": {},
   "outputs": [],
   "source": []
  }
 ],
 "metadata": {
  "kernelspec": {
   "display_name": "venv",
   "language": "python",
   "name": "python3"
  },
  "language_info": {
   "codemirror_mode": {
    "name": "ipython",
    "version": 3
   },
   "file_extension": ".py",
   "mimetype": "text/x-python",
   "name": "python",
   "nbconvert_exporter": "python",
   "pygments_lexer": "ipython3",
   "version": "3.12.7"
  }
 },
 "nbformat": 4,
 "nbformat_minor": 2
}
